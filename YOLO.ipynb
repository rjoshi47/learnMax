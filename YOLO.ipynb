{
  "nbformat": 4,
  "nbformat_minor": 0,
  "metadata": {
    "colab": {
      "name": "Untitled0.ipynb",
      "version": "0.3.2",
      "provenance": [],
      "include_colab_link": true
    },
    "kernelspec": {
      "name": "python3",
      "display_name": "Python 3"
    }
  },
  "cells": [
    {
      "cell_type": "markdown",
      "metadata": {
        "id": "view-in-github",
        "colab_type": "text"
      },
      "source": [
        "<a href=\"https://colab.research.google.com/github/rjoshi47/learnMax/blob/master/YOLO.ipynb\" target=\"_parent\"><img src=\"https://colab.research.google.com/assets/colab-badge.svg\" alt=\"Open In Colab\"/></a>"
      ]
    },
    {
      "metadata": {
        "id": "xEmgDXI5ujnI",
        "colab_type": "code",
        "colab": {}
      },
      "cell_type": "code",
      "source": [
        "def yolo_filter_boxes(box_confidence, boxes, box_class_probs, threshold = .6):\n",
        "    box_scores = box_confidence*box_class_probs\n",
        "    box_classes = K.argmax(box_scores, axis=-1)\n",
        "    box_class_scores = K.max(box_scores, axis=-1)\n",
        "    \n",
        "    filtering_mask = box_class_scores >= threshold\n",
        "    scores = tf.boolean_mask(box_class_scores, filtering_mask)\n",
        "    boxes = tf.boolean_mask(boxes, filtering_mask)\n",
        "    classes = tf.boolean_mask(box_classes, filtering_mask)\n",
        "    \n",
        "    return scores, boxes, classes"
      ],
      "execution_count": 0,
      "outputs": []
    },
    {
      "metadata": {
        "id": "_BMEnomNumra",
        "colab_type": "code",
        "colab": {}
      },
      "cell_type": "code",
      "source": [
        ""
      ],
      "execution_count": 0,
      "outputs": []
    }
  ]
}